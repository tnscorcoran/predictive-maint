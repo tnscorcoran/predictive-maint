{
 "cells": [
  {
   "cell_type": "code",
   "execution_count": 41,
   "id": "63c19483-866b-4564-b2a2-c78a589ad417",
   "metadata": {},
   "outputs": [],
   "source": [
    "import tensorflow as tf\n",
    "import joblib\n",
    "import numpy as np\n",
    "import json\n",
    "import traceback\n",
    "import sys\n",
    "import os\n",
    "\n",
    "\n",
    "\n",
    "class Predictor(object):\n",
    "\n",
    "    def __init__(self,loaded = False):\n",
    "        self.loaded = loaded\n",
    "        if self.loaded == True:\n",
    "            self.model = joblib.load('finalized_ml_model.sav')\n",
    "        self.class_names = ['None Fraud', 'Fraud']\n",
    "    def load(self):\n",
    "        print(\"Loading model\",os.getpid())\n",
    "        self.model = tf.keras.models.load_model('finalized_dl_model.h5', compile=False)\n",
    "        self.loaded = True\n",
    "        print(\"Loaded model\")\n",
    "\n",
    "        \n",
    "        \n",
    "    def predict(self, X,features_names=None):\n",
    "\n",
    "        try:\n",
    "            print ('Step1:  Perform prediction!!!')\n",
    "            if not self.loaded:\n",
    "                print ('Loading DL model!!!!')\n",
    "                self.load()\n",
    "                pred_prob = self.model.predict(X)\n",
    "                predicted_class=int(np.round(pred_prob))\n",
    "            else:\n",
    "                print(\"Loading ML model!!!!  \")\n",
    "                predicted_class = int(self.model.predict(X))\n",
    "                \n",
    "                pred_prob = self.model.predict_proba(X)#[:, 1]\n",
    "            print ('Step1 finished!!!!')\n",
    "\n",
    "        \n",
    "            print(predicted_class)\n",
    "            pred_label = self.class_names[predicted_class]\n",
    "            print('Predicted Class name: ', pred_label)\n",
    "\n",
    "            json_results = {\"Predicted value\": json.dumps(predicted_class, cls=JsonSerializer) ,\"Predicted Class Label\": pred_label,\"Predicted Class Probability\": pred_prob.tolist()}\n",
    "\n",
    "        \n",
    "        ######\n",
    "        except Exception as e:\n",
    "            print(traceback.format_exception(*sys.exc_info()))\n",
    "            raise # reraises the exception\n",
    "                \n",
    "        \n",
    "        return json.dumps(json_results)    \n",
    "\n",
    "\n",
    "\n",
    "class JsonSerializer(json.JSONEncoder):\n",
    "    def default(self, obj):\n",
    "        if isinstance(obj, (\n",
    "        np.int_, np.intc, np.intp, np.int8, np.int16, np.int32, np.int64, np.uint8, np.uint16, np.uint32, np.uint64)):\n",
    "            return int(obj)\n",
    "        elif isinstance(obj, (np.float_, np.float16, np.float32, np.float64)):\n",
    "            return float(obj)\n",
    "        elif isinstance(obj, (np.ndarray,)):\n",
    "            return obj.tolist()\n",
    "        return json.JSONEncoder.default(self, obj)\n",
    "\n",
    "\n"
   ]
  },
  {
   "cell_type": "code",
   "execution_count": 46,
   "id": "167b12c2-0df9-4219-af12-61d4038fe48b",
   "metadata": {},
   "outputs": [],
   "source": [
    "import numpy as np\n",
    "import joblib\n",
    "import pandas as pd\n",
    "\n",
    "class Transformer(object):\n",
    "    \n",
    "    def __init__(self):\n",
    "        self.scaler = joblib.load('scaler.pkl')\n",
    "\n",
    "    def transform_input(self, X, feature_names =None , meta=None ):\n",
    "        print(X)\n",
    "        print('*'*50)\n",
    "        print('*'*50)\n",
    "        print('*'*50)\n",
    "        print(X['data']['ndarray'])\n",
    "\n",
    "        transformed_data = self.scaler.transform(X['data']['ndarray'])\n",
    "\n",
    "        # print(df.to_numpy())\n",
    "        return transformed_data\n"
   ]
  },
  {
   "cell_type": "code",
   "execution_count": 47,
   "id": "65197858-7a60-46f0-a448-ea19f112ff75",
   "metadata": {},
   "outputs": [],
   "source": [
    "import base64\n",
    "import requests\n",
    "from json import dumps,loads\n",
    "\n",
    "\n",
    "sample_data = {\"data\":\n",
    "  {\n",
    "\n",
    "        \"names\":\n",
    "            ['Time', 'V1', 'V2', 'V3', 'V4', 'V5', 'V6', 'V7', 'V8', 'V9', 'V10',\n",
    "       'V11', 'V12', 'V13', 'V14', 'V15', 'V16', 'V17', 'V18', 'V19', 'V20',\n",
    "       'V21', 'V22', 'V23', 'V24', 'V25', 'V26', 'V27', 'V28', 'Amount'],\n",
    "     \"ndarray\": [[77627,-7.139060068,2.773081604,-6.757845069,4.446455974,-5.464428185,-1.713401451,-6.485365409,3.409394799,-3.053492714,-6.260705515,2.394167666,-6.16353738,0.602850521,-5.606346429,0.206621734,-6.52508104,-11.40836754,-4.693977736,2.431274492,-0.616949301,1.303250309,-0.016118152,-0.876669888,0.382229801,-1.054623888,-0.614606037,-0.766848112,0.409423944,106.9]]\n",
    "\n",
    "  }\n",
    "}\n"
   ]
  },
  {
   "cell_type": "code",
   "execution_count": 48,
   "id": "bd51592f-7a4f-44c8-b24a-aea3f28cab20",
   "metadata": {},
   "outputs": [
    {
     "name": "stdout",
     "output_type": "stream",
     "text": [
      "{'data': {'names': ['Time', 'V1', 'V2', 'V3', 'V4', 'V5', 'V6', 'V7', 'V8', 'V9', 'V10', 'V11', 'V12', 'V13', 'V14', 'V15', 'V16', 'V17', 'V18', 'V19', 'V20', 'V21', 'V22', 'V23', 'V24', 'V25', 'V26', 'V27', 'V28', 'Amount'], 'ndarray': [[77627, -7.139060068, 2.773081604, -6.757845069, 4.446455974, -5.464428185, -1.713401451, -6.485365409, 3.409394799, -3.053492714, -6.260705515, 2.394167666, -6.16353738, 0.602850521, -5.606346429, 0.206621734, -6.52508104, -11.40836754, -4.693977736, 2.431274492, -0.616949301, 1.303250309, -0.016118152, -0.876669888, 0.382229801, -1.054623888, -0.614606037, -0.766848112, 0.409423944, 106.9]]}}\n",
      "**************************************************\n",
      "**************************************************\n",
      "**************************************************\n",
      "[[77627, -7.139060068, 2.773081604, -6.757845069, 4.446455974, -5.464428185, -1.713401451, -6.485365409, 3.409394799, -3.053492714, -6.260705515, 2.394167666, -6.16353738, 0.602850521, -5.606346429, 0.206621734, -6.52508104, -11.40836754, -4.693977736, 2.431274492, -0.616949301, 1.303250309, -0.016118152, -0.876669888, 0.382229801, -1.054623888, -0.614606037, -0.766848112, 0.409423944, 106.9]]\n"
     ]
    },
    {
     "name": "stderr",
     "output_type": "stream",
     "text": [
      "/opt/app-root/lib64/python3.8/site-packages/sklearn/base.py:450: UserWarning: X does not have valid feature names, but StandardScaler was fitted with feature names\n",
      "  warnings.warn(\n"
     ]
    }
   ],
   "source": [
    "X=Transformer().transform_input(sample_data)"
   ]
  },
  {
   "cell_type": "code",
   "execution_count": 49,
   "id": "3f1a53dc-aae4-4573-b197-9419d26ef66c",
   "metadata": {},
   "outputs": [
    {
     "name": "stdout",
     "output_type": "stream",
     "text": [
      "Step1:  Perform prediction!!!\n",
      "Loading DL model!!!!\n",
      "Loading model 2379\n",
      "Loaded model\n",
      "WARNING:tensorflow:7 out of the last 8 calls to <function Model.make_predict_function.<locals>.predict_function at 0x7fb54013ba60> triggered tf.function retracing. Tracing is expensive and the excessive number of tracings could be due to (1) creating @tf.function repeatedly in a loop, (2) passing tensors with different shapes, (3) passing Python objects instead of tensors. For (1), please define your @tf.function outside of the loop. For (2), @tf.function has experimental_relax_shapes=True option that relaxes argument shapes that can avoid unnecessary retracing. For (3), please refer to https://www.tensorflow.org/guide/function#controlling_retracing and https://www.tensorflow.org/api_docs/python/tf/function for  more details.\n",
      "Step1 finished!!!!\n",
      "1\n",
      "Predicted Class name:  Fraud\n"
     ]
    },
    {
     "data": {
      "text/plain": [
       "'{\"Predicted value\": \"1\", \"Predicted Class Label\": \"Fraud\", \"Predicted Class Probability\": [[1.0]]}'"
      ]
     },
     "execution_count": 49,
     "metadata": {},
     "output_type": "execute_result"
    }
   ],
   "source": [
    "Predictor().predict(X,\"features\")"
   ]
  },
  {
   "cell_type": "code",
   "execution_count": null,
   "id": "4f64a151-1e34-4192-9561-650dafcd623e",
   "metadata": {},
   "outputs": [],
   "source": []
  },
  {
   "cell_type": "code",
   "execution_count": null,
   "id": "1f6f854e-45ce-40c4-8255-6df44e914949",
   "metadata": {},
   "outputs": [],
   "source": []
  }
 ],
 "metadata": {
  "kernelspec": {
   "display_name": "Python 3 (ipykernel)",
   "language": "python",
   "name": "python3"
  },
  "language_info": {
   "codemirror_mode": {
    "name": "ipython",
    "version": 3
   },
   "file_extension": ".py",
   "mimetype": "text/x-python",
   "name": "python",
   "nbconvert_exporter": "python",
   "pygments_lexer": "ipython3",
   "version": "3.8.8"
  }
 },
 "nbformat": 4,
 "nbformat_minor": 5
}
